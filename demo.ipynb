{
 "cells": [
  {
   "cell_type": "code",
   "execution_count": 1,
   "metadata": {},
   "outputs": [
    {
     "data": {
      "image/png": "[encoded data removed]",
      "text/plain": [
       "<matplotlib.figure.Figure at 0x7fb0c8492668>"
      ]
     },
     "metadata": {},
     "output_type": "display_data"
    }
   ],
   "source": [
    "%matplotlib inline\n",
    "from cselect import color as cs\n",
    "import matplotlib.pyplot as plt\n",
    "import numpy as np\n",
    "\n",
    "def plot_colors(ax, COLORS, d=5):\n",
    "    assert d*d == len(COLORS)\n",
    "    Im = np.zeros((d,d,3), 'uint8')\n",
    "    for i in range(d*d):\n",
    "        x = i % d\n",
    "        y = int(i/d)\n",
    "        Im[y,x] = COLORS[i]\n",
    "    ax.imshow(Im)\n",
    "\n",
    "def plot_lincolors(ax, random_sat=False, random_val=False):\n",
    "    COLORS = cs.lincolor(25, random_sat, random_val)\n",
    "    plot_colors(ax, COLORS, 5)\n",
    "\n",
    "fig = plt.figure(figsize=(16,8))\n",
    "ax = fig.add_subplot(141)\n",
    "ax.set_title('linear colors')\n",
    "plot_lincolors(ax)\n",
    "\n",
    "ax = fig.add_subplot(142)\n",
    "ax.set_title('linear colors (random saturation)')\n",
    "plot_lincolors(ax, True)\n",
    "\n",
    "ax = fig.add_subplot(143)\n",
    "ax.set_title('linear colors (random value)')\n",
    "plot_lincolors(ax, False, True)\n",
    "\n",
    "ax = fig.add_subplot(144)\n",
    "ax.set_title('linear colors (random sat + val)')\n",
    "plot_lincolors(ax, True, True)\n",
    "\n",
    "plt.show()"
   ]
  },
  {
   "cell_type": "code",
   "execution_count": 3,
   "metadata": {},
   "outputs": [
    {
     "name": "stderr",
     "output_type": "stream",
     "text": [
      "/root/miniconda3/lib/python3.6/site-packages/skimage/color/colorconv.py:985: UserWarning: Color data out of range: Z < 0 in 7 pixels\n",
      "  warn('Color data out of range: Z < 0 in %s pixels' % invalid[0].size)\n"
     ]
    },
    {
     "data": {
      "image/png": "[encoded data removed]",
      "text/plain": [
       "<matplotlib.figure.Figure at 0x7fb09de2fe10>"
      ]
     },
     "metadata": {},
     "output_type": "display_data"
    }
   ],
   "source": [
    "COLORS = cs.poisson_disc_sampling_Lab(100)\n",
    "\n",
    "fig = plt.figure()\n",
    "plot_colors(fig.add_subplot(111), COLORS, 10)"
   ]
  }
 ],
 "metadata": {
  "kernelspec": {
   "display_name": "Python 3",
   "language": "python",
   "name": "python3"
  },
  "language_info": {
   "codemirror_mode": {
    "name": "ipython",
    "version": 3
   },
   "file_extension": ".py",
   "mimetype": "text/x-python",
   "name": "python",
   "nbconvert_exporter": "python",
   "pygments_lexer": "ipython3",
   "version": "3.6.3"
  }
 },
 "nbformat": 4,
 "nbformat_minor": 2
}
