{
 "cells": [
  {
   "cell_type": "code",
   "execution_count": 15,
   "metadata": {},
   "outputs": [
    {
     "data": {
      "image/png": "[encoded data removed]",
      "text/plain": [
       "<matplotlib.figure.Figure at 0x7f103392d860>"
      ]
     },
     "metadata": {},
     "output_type": "display_data"
    }
   ],
   "source": [
    "%matplotlib inline\n",
    "from cselect import color as cs\n",
    "import matplotlib.pyplot as plt\n",
    "import numpy as np\n",
    "\n",
    "def plot_lincolors(ax, random_sat=False, random_val=False):\n",
    "    COLORS = cs.lincolor(25, random_sat, random_val)\n",
    "    Im = np.zeros((5,5,3), 'uint8')\n",
    "    for i in range(25):\n",
    "        x = i % 5\n",
    "        y = int(i/5)\n",
    "        Im[y,x] = COLORS[i]\n",
    "    ax.imshow(Im)\n",
    "\n",
    "fig = plt.figure(figsize=(16,8))\n",
    "ax = fig.add_subplot(141)\n",
    "ax.set_title('linear colors')\n",
    "plot_lincolors(ax)\n",
    "\n",
    "ax = fig.add_subplot(142)\n",
    "ax.set_title('linear colors (random saturation)')\n",
    "plot_lincolors(ax, True)\n",
    "\n",
    "ax = fig.add_subplot(143)\n",
    "ax.set_title('linear colors (random value)')\n",
    "plot_lincolors(ax, False, True)\n",
    "\n",
    "ax = fig.add_subplot(144)\n",
    "ax.set_title('linear colors (random sat + val)')\n",
    "plot_lincolors(ax, True, True)\n",
    "\n",
    "plt.show()"
   ]
  }
 ],
 "metadata": {
  "kernelspec": {
   "display_name": "Python 3",
   "language": "python",
   "name": "python3"
  },
  "language_info": {
   "codemirror_mode": {
    "name": "ipython",
    "version": 3
   },
   "file_extension": ".py",
   "mimetype": "text/x-python",
   "name": "python",
   "nbconvert_exporter": "python",
   "pygments_lexer": "ipython3",
   "version": "3.6.3"
  }
 },
 "nbformat": 4,
 "nbformat_minor": 2
}
